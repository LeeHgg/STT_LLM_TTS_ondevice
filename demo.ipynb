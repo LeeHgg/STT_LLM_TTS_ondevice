{
 "cells": [
  {
   "cell_type": "markdown",
   "metadata": {},
   "source": [
    "# STT"
   ]
  },
  {
   "cell_type": "code",
   "execution_count": null,
   "metadata": {},
   "outputs": [],
   "source": [
    "import os\n",
    "os.environ[\"KMP_DUPLICATE_LIB_OK\"]=\"TRUE\""
   ]
  },
  {
   "cell_type": "code",
   "execution_count": null,
   "metadata": {},
   "outputs": [],
   "source": [
    "import time\n",
    "from utils.audio import Audio_record, Custom_faster_whisper\n",
    "user_input = \"\""
   ]
  },
  {
   "cell_type": "code",
   "execution_count": null,
   "metadata": {},
   "outputs": [],
   "source": [
    "running = True # 모든 multi thread를 정지시키기 위한 플래그\n",
    "model_name = 'base'\n",
    "noiseValue = 0.1\n",
    "\n",
    "# model, 음성 녹음 관련 초기화\n",
    "audio_record = Audio_record()\n",
    "model = Custom_faster_whisper()\n",
    "model.set_model(model_name)"
   ]
  },
  {
   "cell_type": "code",
   "execution_count": null,
   "metadata": {},
   "outputs": [],
   "source": [
    "# 녹음 시작\n",
    "print(\"recording start\")\n",
    "audio_record.record_start()\n",
    "while audio_record.recording:\n",
    "    time.sleep(0.1)  # 100ms 대기\n",
    "audio_dic = audio_record.record_stop(noiseValue)\n",
    "print(audio_dic)\n",
    "print(\"recording finish\")"
   ]
  },
  {
   "cell_type": "code",
   "execution_count": null,
   "metadata": {},
   "outputs": [],
   "source": [
    "# 모델 추론\n",
    "_, result_denoise, time_denoise = model.run(audio_dic['audio_denoise'])\n",
    "\n",
    "txt_denoise = f'{result_denoise} ({time_denoise}s)'\n",
    "print(txt_denoise)\n",
    "user_input = result_denoise"
   ]
  },
  {
   "cell_type": "markdown",
   "metadata": {},
   "source": [
    "# LLM ChatBot"
   ]
  },
  {
   "cell_type": "code",
   "execution_count": 1,
   "metadata": {},
   "outputs": [],
   "source": [
    "import threading\n",
    "from utils.sLLM import Ollama_sLLM"
   ]
  },
  {
   "cell_type": "code",
   "execution_count": 2,
   "metadata": {},
   "outputs": [
    {
     "name": "stdout",
     "output_type": "stream",
     "text": [
      "Loaded in instruct/informations.txt\n"
     ]
    }
   ],
   "source": [
    "# LLM 초기화\n",
    "llm = Ollama_sLLM(model_name='llama3-ko-8b-Q8') # 언어 모델 설정\n",
    "session_id = 'test4344332'\n",
    "session_count = 0\n",
    "llm.set_session_id(session_id)"
   ]
  },
  {
   "cell_type": "code",
   "execution_count": 3,
   "metadata": {},
   "outputs": [],
   "source": [
    "# 응답 관리 함수 정의\n",
    "import re\n",
    "import subprocess\n",
    "\n",
    "def save_response(user_input, response):\n",
    "    # 로그 저장\n",
    "    log_entry = f\"User: {user_input}\\nChatBot: {response}\\n--------\\n\"\n",
    "    with open(\"./llm_log/chat_log.txt\", \"a\", encoding=\"utf-8\") as log_file:\n",
    "        log_file.write(log_entry)\n",
    "    \n",
    "    extracted_code = extract_code_blocks(response)\n",
    "    # 코드 저장\n",
    "    if extracted_code: \n",
    "        extracted_code = \"\\n\" + extracted_code\n",
    "        with open(\"./llm_log/executed_code.txt\", \"a\", encoding=\"utf-8\") as code_file:\n",
    "            code_file.write(extracted_code)  # 누적 저장\n",
    "        with open(\"./llm_log/executing_code.py\", \"w\", encoding=\"utf-8\") as code_file:\n",
    "            code_file.write(extracted_code)  # 실행할 코드\n",
    "        # 현재 코드 실행\n",
    "        run_executing_code()\n",
    "\n",
    "# Function to extract code blocks from chatbot response and wrap each line in print()\n",
    "def extract_code_blocks(response):\n",
    "    code_blocks = re.findall(r'```(?:python)?\\n(.*?)```', response, re.DOTALL)\n",
    "    if not code_blocks:\n",
    "        return None\n",
    "    wrapped_code = []\n",
    "    for block in code_blocks:\n",
    "        lines = block.strip().split(\"\\n\")  # 코드 줄 단위로 분리\n",
    "        if any(\"utils.log.show_executed_code()\" in line for line in lines):\n",
    "            wrapped_lines = [f'import sys\\nimport os\\nsys.path.append(os.path.abspath(os.path.join(os.path.dirname(__file__), \"..\")))\\nimport utils.log\\n{line}' for line in lines]\n",
    "        else:\n",
    "            wrapped_lines = [f'print(\"{line}\")' for line in lines]  # 각 줄을 print()로 감싸기\n",
    "        wrapped_code.append(\"\\n\".join(wrapped_lines))\n",
    "\n",
    "    return \"\\n\\n\".join(wrapped_code)\n",
    "\n",
    "# Function to execute the generated Python script\n",
    "def run_executing_code():\n",
    "    try:\n",
    "        result = subprocess.run([\"python\", \"./llm_log/executing_code.py\"], capture_output=True, text=True)\n",
    "        print(\"[코드 실행 결과]\\n\", result.stdout)\n",
    "        if result.stderr:\n",
    "            print(\"\\n실행 중 오류 발생\\n\", result.stderr)\n",
    "    except Exception as e:\n",
    "        print(f\"실행 실패: {e}\")\n",
    "\n",
    "# Function to interact with the chatbot and save extracted code\n",
    "def chat_with_bot(user_input):\n",
    "    response = llm.invoke(user_input, session_id)\n",
    "    save_response(user_input, response)\n",
    "    return response\n"
   ]
  },
  {
   "cell_type": "code",
   "execution_count": null,
   "metadata": {},
   "outputs": [],
   "source": [
    "# 현재 생성된 코드 실행\n",
    "run_executing_code()"
   ]
  },
  {
   "cell_type": "code",
   "execution_count": 4,
   "metadata": {},
   "outputs": [
    {
     "name": "stdout",
     "output_type": "stream",
     "text": [
      "실행된 코드 기록이 초기화되었습니다.\n"
     ]
    }
   ],
   "source": [
    "# 코드 초기화\n",
    "import utils.log\n",
    "utils.log.clear_executed_code()"
   ]
  },
  {
   "cell_type": "code",
   "execution_count": 7,
   "metadata": {},
   "outputs": [
    {
     "name": "stdout",
     "output_type": "stream",
     "text": [
      "User: 여기 연결된 CNC 문 열 수 있지?\n",
      "ChatBot: 네, CNC 통신 모듈을 통해 문을 열 수 있습니다. 이대로 실행할까요? (코드)\n"
     ]
    }
   ],
   "source": [
    "# 챗봇 테스트\n",
    "user_input = \"여기 연결된 CNC 문 열 수 있지?\"\n",
    "response = chat_with_bot(user_input)\n",
    "print(f\"User: {user_input}\")\n",
    "print(f\"ChatBot: {response}\")"
   ]
  },
  {
   "cell_type": "code",
   "execution_count": null,
   "metadata": {},
   "outputs": [],
   "source": [
    "# 대화 초기화\n",
    "session_count += 1\n",
    "session_id += str(session_count)\n",
    "llm.set_session_id(session_id)"
   ]
  },
  {
   "cell_type": "markdown",
   "metadata": {},
   "source": [
    "# TTS"
   ]
  },
  {
   "cell_type": "code",
   "execution_count": null,
   "metadata": {},
   "outputs": [],
   "source": [
    "import torch\n",
    "torch.cuda.is_available()"
   ]
  },
  {
   "cell_type": "code",
   "execution_count": null,
   "metadata": {},
   "outputs": [],
   "source": [
    "from utils.custom_tts import Custom_TTS"
   ]
  },
  {
   "cell_type": "code",
   "execution_count": null,
   "metadata": {},
   "outputs": [],
   "source": [
    "tts_module = Custom_TTS()"
   ]
  },
  {
   "cell_type": "code",
   "execution_count": null,
   "metadata": {},
   "outputs": [],
   "source": [
    "tts_module.set_model()"
   ]
  },
  {
   "cell_type": "code",
   "execution_count": null,
   "metadata": {},
   "outputs": [],
   "source": [
    "import os\n",
    "print(os.path.exists('tts_model/sample_sunhi.mp3')) # 44초 이상"
   ]
  },
  {
   "cell_type": "code",
   "execution_count": null,
   "metadata": {},
   "outputs": [],
   "source": [
    "tts_module.get_reference_speaker(speaker_path='tts_model/sample_sunhi.mp3') # 여자 목소리\n",
    "# tts_module.get_reference_speaker(speaker_path='sample_iena_3min.m4a') # 남자 목소리"
   ]
  },
  {
   "cell_type": "code",
   "execution_count": null,
   "metadata": {},
   "outputs": [],
   "source": [
    "tts_module.make_speech(response)"
   ]
  },
  {
   "cell_type": "code",
   "execution_count": null,
   "metadata": {},
   "outputs": [],
   "source": [
    "from IPython.display import Audio\n",
    "\n",
    "# TTS된 음성 재생(목소리 변조 하기 이전)\n",
    "Audio('./tts_output/tmp.wav')"
   ]
  }
 ],
 "metadata": {
  "kernelspec": {
   "display_name": "voice-teach",
   "language": "python",
   "name": "python3"
  },
  "language_info": {
   "codemirror_mode": {
    "name": "ipython",
    "version": 3
   },
   "file_extension": ".py",
   "mimetype": "text/x-python",
   "name": "python",
   "nbconvert_exporter": "python",
   "pygments_lexer": "ipython3",
   "version": "3.9.21"
  }
 },
 "nbformat": 4,
 "nbformat_minor": 2
}
